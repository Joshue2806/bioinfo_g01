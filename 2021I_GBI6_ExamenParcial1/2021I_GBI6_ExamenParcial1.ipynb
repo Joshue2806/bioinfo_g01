{
 "cells": [
  {
   "cell_type": "markdown",
   "metadata": {
    "tags": []
   },
   "source": [
    "<img src=\"https://www.ikiam.edu.ec/img/logo-ikiam-grey.png\" width=300 height=240 />\n",
    "\n",
    "# EXAMEN PARCIAL 1\n",
    "\n",
    "## GBI6-2021II: BIOINFORMÁTICA\n",
    "\n",
    "**Ruiz Moreira, Joshué Giovanni** \n",
    "\n",
    "**15-01-2022**"
   ]
  },
  {
   "cell_type": "markdown",
   "metadata": {},
   "source": [
    "<font color='red'>NO AGREGUE NUEVAS CELDAS, UTILICE ÚNICAMENTE LAS QUE ESTÁN CREADAS</font>"
   ]
  },
  {
   "cell_type": "markdown",
   "metadata": {},
   "source": [
    "# 1. UNIX\n",
    "\n",
    "## Ejercicio 1\n",
    "**Para esta pregunta debe realizar previamente lo siguiente:** \n",
    "\n",
    "1. Imprimir el directorio de trabajo actual \n",
    "2. Crear un directorio *test1*\n",
    "3. <span style=\"color:orange\"> No cambie de directorio, pero los items 4, 5 y 6 deben guardarse en el directorio creado en el paso 2. </span>\n",
    "4. Crear el archivo *test1.txt*\n",
    "5. Guardar el texto *Hola GBI6* en un archivo *test2.txt*\n",
    "6. Guardar la instrucción *print(\"Hola GBI6\")*  en el archivo *test1.py*\n",
    "\n",
    "**Luego seleccione la instrucción que permite enlistar el contenido (sin detalles) del directorio test1**\n",
    "\n",
    "\n",
    "<img src=\"data/ejercicio1.png\" height=500 />\n",
    "\n",
    "Se usa *touch* para crear un archivo desde 0, y *echo* para imprimir una información que luego será guardada en un archivo colocando este símbolo: *\">\"*. Luego de crear los archivos se usa el comando *mv* para llevarlos a la carpeta *test1*.\n",
    "\n",
    "## Ejercicio 2\n",
    "**Para esta pregunta debe realizar previamente lo siguiente:** \n",
    "\n",
    "1. Imprimir el directorio de trabajo actual \n",
    "2. Crear un directorio *test1*\n",
    "3. <span style=\"color:orange\"> No cambie de directorio, pero los items 4, 5 y 6 deben guardarse en el directorio creado en el paso 2. </span>\n",
    "4. Crear el archivo *test1.txt*\n",
    "5. Guardar el texto *Hola GBI6* en un archivo *test2.txt*\n",
    "6. Guardar la instrucción *print(\"Hola GBI6\")*  en el archivo *test1.py*\n",
    "\n",
    "**Luego seleccione la instrucción que agregue el texto** *El examen parcial de GBI6 es hoy* **al archivo *test2.txt* sin reemplazar y imprima el contenido en la consola.**\n",
    "\n",
    "\n",
    "<img src=\"data/ejercicio2.png\" height=500 />\n",
    "\n",
    "Aquí al usar *\">>\"* se indica que se agregue información adicional al archivo que se lo llama primero nombrando el directorio y luego el archivo (test1/test2.txt).\n",
    "\n",
    "## Ejercicio 3\n",
    "**Seleccione la opción de código que imprime el directorio de trabajo actual**\n",
    "\n",
    "\n",
    "<img src=\"data/ejercicio3.png\" height=500 />\n",
    "\n",
    "\n",
    "## Ejercicio 4\n",
    "Resuelva el ejercicio **1.10.1 Next Generation Sequencing Data.** \n",
    "\n",
    "- Resuelva el ejercicio en un documento de nombre **ejercicio_1101.sh**\n",
    "- Cargue el documento **ejercicio_1101.sh** en GitHub utilizando **git push.** \n",
    "- Realice el video explicativo de la resolución ejercicio y guarde en YouTube en formato \"Público\" o \"Unlisted\", y pegue el enlace en el cuaderno de Jupyter.\n",
    "\n"
   ]
  },
  {
   "cell_type": "code",
   "execution_count": 46,
   "metadata": {},
   "outputs": [
    {
     "data": {
      "text/html": [
       "<iframe width=\"560\" height=\"315\" src=\"https://www.youtube.com/embed/JcxHfia0goY\" title=\"YouTube video player\" frameborder=\"0\" allow=\"accelerometer; autoplay; clipboard-write; encrypted-media; gyroscope; picture-in-picture\" allowfullscreen></iframe>"
      ],
      "text/plain": [
       "<IPython.core.display.HTML object>"
      ]
     },
     "execution_count": 46,
     "metadata": {},
     "output_type": "execute_result"
    }
   ],
   "source": [
    "# Coloque aquí su video del ejercicio 4\n",
    "from IPython.display import HTML\n",
    "HTML('<iframe width=\"560\" height=\"315\" src=\"https://www.youtube.com/embed/JcxHfia0goY\" title=\"YouTube video player\" frameborder=\"0\" allow=\"accelerometer; autoplay; clipboard-write; encrypted-media; gyroscope; picture-in-picture\" allowfullscreen></iframe>')\n"
   ]
  },
  {
   "cell_type": "markdown",
   "metadata": {},
   "source": [
    "## Ejercicio 5\n",
    "Resuelva el ejercicio **1.10.3 Plant–Pollinator Networks.**\n",
    "\n",
    "- Resuelva el ejercicio en un documento de nombre **ejercicio_1103.sh**\n",
    "- Cargue el documento **ejercicio_1103.sh** en GitHub utilizando **git push.**\n",
    "- Realice el video explicativo de la resolución ejercicio y guarde en YouTube en formato \"Público\" o \"Unlisted\", y pegue el enlace en el cuaderno de Jupyter."
   ]
  },
  {
   "cell_type": "code",
   "execution_count": 5,
   "metadata": {},
   "outputs": [
    {
     "data": {
      "text/html": [
       "<iframe width=\"560\" height=\"315\" src=\"https://www.youtube.com/embed/3XlZWpLwvvo\" title=\"YouTube video player\" frameborder=\"0\" allow=\"accelerometer; autoplay; clipboard-write; encrypted-media; gyroscope; picture-in-picture\" allowfullscreen></iframe>"
      ],
      "text/plain": [
       "<IPython.core.display.HTML object>"
      ]
     },
     "execution_count": 5,
     "metadata": {},
     "output_type": "execute_result"
    }
   ],
   "source": [
    "# Coloque aquí su video del ejercicio 5\n",
    "from IPython.display import HTML\n",
    "HTML('<iframe width=\"560\" height=\"315\" src=\"https://www.youtube.com/embed/3XlZWpLwvvo\" title=\"YouTube video player\" frameborder=\"0\" allow=\"accelerometer; autoplay; clipboard-write; encrypted-media; gyroscope; picture-in-picture\" allowfullscreen></iframe>')\n"
   ]
  },
  {
   "cell_type": "markdown",
   "metadata": {
    "jp-MarkdownHeadingCollapsed": true,
    "tags": []
   },
   "source": [
    "# 2. CONTROL DE LA VERSIÓN\n",
    "## Pregunta 6\n",
    "1. Cree en GitHub un repositorio de nombre ```GBI6_ExamenParcial1```. \n",
    "2. Cree un archivo ```Readme.md``` que debe tener lo siguiente: \n",
    "- Datos personales\n",
    "- Características del computador\n",
    "- Programas utilizados\n",
    "- Explicación de la data utilizada\n",
    "\n",
    "\n",
    "## Pregunta 7\n",
    "1. Cada vez que resuelva un ejercicio (del 1 al 10), utilizando Git Bash, GitHub Desktop o Atom realice un *git push* con el mensaje: \n",
    "\n",
    "\n",
    "<font color='red'>Apellido Nombre ha resuelto el ejercicio 1</font> % Cambie con sus apellidos y nombres; y con el número de ejercicio que corresponda \n",
    "\n",
    "2. Coloque aquí las capturas de pantalla para cada git push realizado desde Git Bash, GitHub Desktop o Atom. \n",
    "\n",
    "- Control de versión ejercicio 1\n",
    "\n",
    "<img src=\"data/push1.png\" height=350 />\n",
    "\n",
    "- Control de versión ejercicio 2\n",
    "\n",
    "<img src=\"data/push2.png\" height=350 />\n",
    "\n",
    "- Control de versión ejercicio 3\n",
    "\n",
    "<img src=\"data/push3.png\" height=350 />\n",
    "\n",
    "- Control de versión ejercicio 4\n",
    "\n",
    "<img src=\"data/push4.png\" height=350 />\n",
    "\n",
    "- Control de versión ejercicio 5\n",
    "\n",
    "<img src=\"data/push5.png\" height=350 />\n",
    "\n",
    "- Control de versión ejercicio 8\n",
    "\n",
    "<img src=\"data/push8.png\" height=350 />\n",
    "\n",
    "- Control de versión ejercicio 9\n",
    "\n",
    "<img src=\"data/push9.png\" height=350 />\n",
    "\n",
    "- Control de versión ejercicio 10\n",
    "\n",
    "<img src=\"data/push10.png\" height=350 />\n",
    "\n",
    "\n",
    "3. Cree un directorio de nombre ```data``` donde deben estar guardados: (i) la data utilizada y (ii) las capturas de pantalla de los ejercicios 1 al 3 y los git push del ejercicio 1 al 10 (en total debe tener 10 imágenes). \n",
    "4. Inserte aquí el enlace de su repositorio (válido para el ejercicio 6 y 7): [GitHub Repository: GBI6_ExamenParcial1](https://github.com/gualapuromoises/2021_gbi6.git) (este enlace es de ejemplo)"
   ]
  },
  {
   "cell_type": "markdown",
   "metadata": {},
   "source": [
    "# 3. INTRODUCCIÓN A PYTHON\n",
    "\n",
    "## Ejercicio 8\n",
    "\n",
    "**Para este ejercicio debe debe realizar lo siguiente:** \n",
    "\n",
    "1. Crear un diccionario de nombre **dic_genomas**, donde se tenga la información de la tabla 1 que se encuentra en https://www.nature.com/scitable/topicpage/eukaryotic-genome-complexity-437/. \n",
    "2. Utilice como \"key\" los valores especie de la columna \"Species and Common Name\" y las otras dos columnas ingrese como \"values\". \n",
    "3. Luego de crear el diccionario, extraiga los valores de \"key\" a una lista de nombre \"**especies**\"\n",
    "4. Extraiga los valores de \"value\" a una lista de nombre \"genomas\"\n",
    "\n",
    "**Para evaluar esta pregunta realice un git push del Jupyter Notebook al repositorio del examen.**"
   ]
  },
  {
   "cell_type": "code",
   "execution_count": 22,
   "metadata": {},
   "outputs": [
    {
     "name": "stdout",
     "output_type": "stream",
     "text": [
      "[dict_keys(['Saccharomyces cerevisiae', 'Trichomonas vaginalis', 'Plasmodium falciparum', 'Caenorhabditis elegans', 'Drosophila melanogaster', 'Arabidopsis thaliana', 'Oryza sativa', 'Gallus gallus', 'Canis familiaris', 'Mus musculu', 'Homo sapiens'])]\n",
      "[dict_values([{'Genoma': '12 millones pb', 'GCP': '6,000'}, {'Genoma': '160 millones pb', 'GCP': '60,000'}, {'Genoma': '23 millones pb', 'GCP': '5,000'}, {'Genoma': '95.5 millones pb', 'GCP': '18,000'}, {'Genoma': '170 millones pb', 'GCP': '14,000'}, {'Genoma': '125 millones pb', 'GCP': '25,000'}, {'Genoma': '470 millones pb', 'GCP': '51,000'}, {'Genoma': '1 billón pb', 'GCP': '20,000-23,000'}, {'Genoma': '2.4 billones pb', 'GCP': '19,000'}, {'Genoma': '2.5 billones pb', 'GCP': '30,000'}, {'Genoma': '2.9 billones pb', 'GCP': '20,000-25,000'}])]\n"
     ]
    }
   ],
   "source": [
    "dic_genomas = {\n",
    "    \"Saccharomyces cerevisiae\": {\n",
    "        \"Genoma\": \"12 millones pb\",\n",
    "        \"GCP\": \"6,000\",\n",
    "    },\n",
    "    \"Trichomonas vaginalis\": {\n",
    "        \"Genoma\": \"160 millones pb\",\n",
    "        \"GCP\": \"60,000\",\n",
    "    },\n",
    "    \"Plasmodium falciparum\": {\n",
    "        \"Genoma\": \"23 millones pb\",\n",
    "        \"GCP\": \"5,000\",\n",
    "    },\n",
    "     \"Caenorhabditis elegans\": {\n",
    "        \"Genoma\": \"95.5 millones pb\",\n",
    "        \"GCP\": \"18,000\",\n",
    "    },\n",
    "     \"Drosophila melanogaster\": {\n",
    "        \"Genoma\": \"170 millones pb\",\n",
    "        \"GCP\": \"14,000\",\n",
    "    },\n",
    "     \"Arabidopsis thaliana\": {\n",
    "        \"Genoma\": \"125 millones pb\",\n",
    "        \"GCP\": \"25,000\",\n",
    "    },\n",
    "     \"Oryza sativa\": {\n",
    "        \"Genoma\": \"470 millones pb\",\n",
    "        \"GCP\": \"51,000\",\n",
    "    },\n",
    "      \"Gallus gallus\": {\n",
    "        \"Genoma\": \"1 billón pb\",\n",
    "        \"GCP\": \"20,000-23,000\",\n",
    "    },\n",
    "      \"Canis familiaris\": {\n",
    "        \"Genoma\": \"2.4 billones pb\",\n",
    "        \"GCP\": \"19,000\",\n",
    "    },\n",
    "      \"Mus musculu\": {\n",
    "        \"Genoma\": \"2.5 billones pb\",\n",
    "        \"GCP\": \"30,000\",\n",
    "    },\n",
    "    \"Homo sapiens\": {\n",
    "        \"Genoma\": \"2.9 billones pb\",\n",
    "        \"GCP\": \"20,000-25,000\",\n",
    "    }, \n",
    "}\n",
    "\n",
    "especies= [dic_genomas.keys()]\n",
    "genomas= [dic_genomas.values()]\n",
    "\n",
    "print(especies)\n",
    "print(genomas)"
   ]
  },
  {
   "cell_type": "markdown",
   "metadata": {},
   "source": [
    "## Ejercicio 9\n",
    "\n",
    "**Para este ejercicio tiene que crear previamente lo siguiente:**\n",
    "\n",
    "- Una lista de nombre *lista1* que tenga a las 10 primeras letras del alfabeto.\n",
    "\n",
    "**Relaciones los códigos y las respuestas que salen al ejecutar.** (Responda en el aula virtual\n",
    "\n",
    " "
   ]
  },
  {
   "cell_type": "code",
   "execution_count": 43,
   "metadata": {},
   "outputs": [
    {
     "data": {
      "text/plain": [
       "['c', 'd', 'e']"
      ]
     },
     "execution_count": 43,
     "metadata": {},
     "output_type": "execute_result"
    }
   ],
   "source": [
    "lista1= [\"a\", \"b\", \"c\", \"d\", \"e\", \"f\", \"g\", \"h\", \"i\", \"j\"]\n",
    "\n",
    "lista1.append([\"gbi6\", \"bio1\", \"ikiam\"])\n",
    "len(lista1)\n",
    "\n",
    "lista1.append([\"gbi6\", \"bio1\", \"ikiam\"])\n",
    "lista1[-1][-1]\n",
    "\n",
    "lista1[3]\n",
    "\n",
    "lista1[2:5]"
   ]
  },
  {
   "cell_type": "markdown",
   "metadata": {},
   "source": [
    "## Ejercicio 10\n",
    "\n",
    "**Para este ejercicio debe debe realizar lo siguiente:**\n",
    "\n",
    "1. Crear un diccionario de nombre **dic_aminoacidos**, donde se tenga la información de la tabla que se encuentra en http://www.russelllab.org/aas/aas.html. \n",
    "2. Utilice como \"key\" los valores de la columna \"AA\" y las columnas \"Hits\" y \"%Abundance\" como \"values\". \n",
    "3. Luego de crear el diccionario, extraiga los valores de \"key\" a una lista de nombre \"**aminoacidos**\"\n",
    "4. Extraiga los valores de \"value\" a una lista de nombre \"**propiedades**\"\n",
    "\n",
    "**Para evaluar esta pregunta realice un git push del Jupyter Notebook al repositorio del examen.**"
   ]
  },
  {
   "cell_type": "code",
   "execution_count": 44,
   "metadata": {},
   "outputs": [
    {
     "name": "stdout",
     "output_type": "stream",
     "text": [
      "[dict_keys(['Trp', 'Cys', 'His', 'Arg', 'Met', 'Tyr', 'Gln', 'Phe', 'Asp', 'Pro', 'Ala', 'Asn', 'Lys', 'Glu', 'Gly', 'Thr', 'Val', 'Ile', 'Ser', 'Leu'])]\n",
      "[dict_values([{'Hits': '1550', '%Abundance': '1.34'}, {'Hits': '1905', '%Abundance': '1.76'}, {'Hits': '1695', '%Abundance': '2.26'}, {'Hits': '3093', '%Abundance': '5.20'}, {'Hits': '1102', '%Abundance': '2.32'}, {'Hits': '1525', '%Abundance': '3.25'}, {'Hits': '1830', '%Abundance': '3.96'}, {'Hits': '1616', '%Abundance': '4.12'}, {'Hits': '1691', '%Abundance': '5.12'}, {'Hits': '1598', '%Abundance': '5.00'}, {'Hits': '2018', '%Abundance': '7.34'}, {'Hits': '1103', '%Abundance': '4.57'}, {'Hits': '1366', '%Abundance': '5.81'}, {'Hits': '1471', '%Abundance': '6.22'}, {'Hits': '1386', '%Abundance': '6.89'}, {'Hits': '1147', '%Abundance': '5.85'}, {'Hits': '1225', '%Abundance': '6.48'}, {'Hits': '1033', '%Abundance': '5.76'}, {'Hits': '1206', '%Abundance': '7.38'}, {'Hits': '1127', '%Abundance': '9.36'}])]\n"
     ]
    }
   ],
   "source": [
    "dic_aminoacidos= {\n",
    "    \"Trp\": {\n",
    "        \"Hits\": \"1550\",\n",
    "        \"%Abundance\": \"1.34\",\n",
    "    },\n",
    "     \"Cys\": {\n",
    "        \"Hits\": \"1905\",\n",
    "        \"%Abundance\": \"1.76\",\n",
    "    },\n",
    "     \"His\": {\n",
    "        \"Hits\": \"1695\",\n",
    "        \"%Abundance\": \"2.26\",\n",
    "    },\n",
    "     \"Arg\": {\n",
    "        \"Hits\": \"3093\",\n",
    "        \"%Abundance\": \"5.20\",\n",
    "    },\n",
    "     \"Met\": {\n",
    "        \"Hits\": \"1102\",\n",
    "        \"%Abundance\": \"2.32\",\n",
    "    },\n",
    "     \"Tyr\": {\n",
    "        \"Hits\": \"1525\",\n",
    "        \"%Abundance\": \"3.25\",\n",
    "    },\n",
    "     \"Gln\": {\n",
    "        \"Hits\": \"1830\",\n",
    "        \"%Abundance\": \"3.96\",\n",
    "    },\n",
    "     \"Phe\": {\n",
    "        \"Hits\": \"1616\",\n",
    "        \"%Abundance\": \"4.12\",\n",
    "    },\n",
    "     \"Asp\": {\n",
    "        \"Hits\": \"1691\",\n",
    "        \"%Abundance\": \"5.12\",\n",
    "    },\n",
    "     \"Pro\": {\n",
    "        \"Hits\": \"1598\",\n",
    "        \"%Abundance\": \"5.00\",\n",
    "    },\n",
    "     \"Ala\": {\n",
    "        \"Hits\": \"2018\",\n",
    "        \"%Abundance\": \"7.34\",\n",
    "    },\n",
    "     \"Asn\": {\n",
    "        \"Hits\": \"1103\",\n",
    "        \"%Abundance\": \"4.57\",\n",
    "    },\n",
    "     \"Lys\": {\n",
    "        \"Hits\": \"1366\",\n",
    "        \"%Abundance\": \"5.81\",\n",
    "    },\n",
    "     \"Glu\": {\n",
    "        \"Hits\": \"1471\",\n",
    "        \"%Abundance\": \"6.22\",\n",
    "    },\n",
    "     \"Gly\": {\n",
    "        \"Hits\": \"1386\",\n",
    "        \"%Abundance\": \"6.89\",\n",
    "    },\n",
    "     \"Thr\": {\n",
    "        \"Hits\": \"1147\",\n",
    "        \"%Abundance\": \"5.85\",\n",
    "    },\n",
    "     \"Val\": {\n",
    "        \"Hits\": \"1225\",\n",
    "        \"%Abundance\": \"6.48\",\n",
    "    },\n",
    "     \"Ile\": {\n",
    "        \"Hits\": \"1033\",\n",
    "        \"%Abundance\": \"5.76\",\n",
    "    },\n",
    "     \"Ser\": {\n",
    "        \"Hits\": \"1206\",\n",
    "        \"%Abundance\": \"7.38\",\n",
    "    },\n",
    "     \"Leu\": {\n",
    "        \"Hits\": \"1127\",\n",
    "        \"%Abundance\": \"9.36\",\n",
    "    },\n",
    "}\n",
    "\n",
    "aminoácidos= [dic_aminoacidos.keys()]\n",
    "propiedades= [dic_aminoacidos.values()]\n",
    "\n",
    "print(aminoácidos)\n",
    "print(propiedades)"
   ]
  }
 ],
 "metadata": {
  "kernelspec": {
   "display_name": "Python 3",
   "language": "python",
   "name": "python3"
  },
  "language_info": {
   "codemirror_mode": {
    "name": "ipython",
    "version": 3
   },
   "file_extension": ".py",
   "mimetype": "text/x-python",
   "name": "python",
   "nbconvert_exporter": "python",
   "pygments_lexer": "ipython3",
   "version": "3.8.8"
  },
  "latex_envs": {
   "LaTeX_envs_menu_present": true,
   "autoclose": false,
   "autocomplete": true,
   "bibliofile": "biblio.bib",
   "cite_by": "apalike",
   "current_citInitial": 1,
   "eqLabelWithNumbers": true,
   "eqNumInitial": 1,
   "hotkeys": {
    "equation": "Ctrl-E",
    "itemize": "Ctrl-I"
   },
   "labels_anchors": false,
   "latex_user_defs": false,
   "report_style_numbering": false,
   "user_envs_cfg": false
  },
  "toc": {
   "base_numbering": 1,
   "nav_menu": {},
   "number_sections": true,
   "sideBar": false,
   "skip_h1_title": false,
   "title_cell": "Table of Contents",
   "title_sidebar": "Contents",
   "toc_cell": false,
   "toc_position": {
    "height": "1152.67px",
    "left": "41px",
    "top": "110px",
    "width": "253.458px"
   },
   "toc_section_display": true,
   "toc_window_display": false
  },
  "varInspector": {
   "cols": {
    "lenName": 16,
    "lenType": 16,
    "lenVar": 40
   },
   "kernels_config": {
    "python": {
     "delete_cmd_postfix": "",
     "delete_cmd_prefix": "del ",
     "library": "var_list.py",
     "varRefreshCmd": "print(var_dic_list())"
    },
    "r": {
     "delete_cmd_postfix": ") ",
     "delete_cmd_prefix": "rm(",
     "library": "var_list.r",
     "varRefreshCmd": "cat(var_dic_list()) "
    }
   },
   "types_to_exclude": [
    "module",
    "function",
    "builtin_function_or_method",
    "instance",
    "_Feature"
   ],
   "window_display": false
  }
 },
 "nbformat": 4,
 "nbformat_minor": 4
}
